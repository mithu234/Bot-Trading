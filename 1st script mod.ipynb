{
 "cells": [
  {
   "cell_type": "code",
   "execution_count": 1,
   "id": "b68c8985",
   "metadata": {},
   "outputs": [],
   "source": [
    "import pandas as pd\n",
    "import sqlalchemy\n",
    "from binance.client import Client\n",
    "from binance import BinanceSocketManager\n"
   ]
  },
  {
   "cell_type": "code",
   "execution_count": 2,
   "id": "a9dd25da",
   "metadata": {},
   "outputs": [],
   "source": [
    "api_key = \"fGkbnt2Y7fsQ2Mm3fumuQB7r74SAv2cEgTmrRqvjvsVcXh36Qp0FT9gQDzUg3Ipz\""
   ]
  },
  {
   "cell_type": "code",
   "execution_count": 3,
   "id": "cdf56814",
   "metadata": {},
   "outputs": [],
   "source": [
    "api_secret = \"by339FFBY1z6K7Y5sSsvNFMX5TeyQwMkVOE7nhXuSikyk598W9yoXQqewqFjfg1o\""
   ]
  },
  {
   "cell_type": "code",
   "execution_count": 4,
   "id": "fa233c89",
   "metadata": {},
   "outputs": [
    {
     "name": "stdout",
     "output_type": "stream",
     "text": [
      "Stored 'api_key' (str)\n"
     ]
    }
   ],
   "source": [
    "%store api_key"
   ]
  },
  {
   "cell_type": "code",
   "execution_count": 5,
   "id": "397b645a",
   "metadata": {},
   "outputs": [
    {
     "name": "stdout",
     "output_type": "stream",
     "text": [
      "Stored 'api_secret' (str)\n"
     ]
    }
   ],
   "source": [
    "%store api_secret"
   ]
  },
  {
   "cell_type": "code",
   "execution_count": 6,
   "id": "709c283d",
   "metadata": {},
   "outputs": [],
   "source": [
    "client = Client(api_key,api_secret)"
   ]
  },
  {
   "cell_type": "code",
   "execution_count": 7,
   "id": "2bbea3d4",
   "metadata": {},
   "outputs": [],
   "source": [
    "bsm = BinanceSocketManager(client)"
   ]
  },
  {
   "cell_type": "code",
   "execution_count": 8,
   "id": "f143ab3c",
   "metadata": {},
   "outputs": [],
   "source": [
    "socket = bsm.trade_socket('BTCUSDT')"
   ]
  },
  {
   "cell_type": "code",
   "execution_count": 9,
   "id": "3a0507f7",
   "metadata": {},
   "outputs": [
    {
     "name": "stdout",
     "output_type": "stream",
     "text": [
      "{'e': 'trade', 'E': 1654576895309, 's': 'BTCUSDT', 't': 1394109483, 'p': '29496.02000000', 'q': '0.00037000', 'b': 10878060948, 'a': 10878060743, 'T': 1654576895309, 'm': False, 'M': True}\n"
     ]
    }
   ],
   "source": [
    "    await socket.__aenter__()\n",
    "    msg = await socket.recv()\n",
    "    print(msg)"
   ]
  },
  {
   "cell_type": "code",
   "execution_count": 10,
   "id": "26526155",
   "metadata": {},
   "outputs": [],
   "source": [
    "def createframe(msg):\n",
    "    df = pd.DataFrame([msg])\n",
    "    df = df.loc[:,['s','E','p']]\n",
    "    df.columns = ['symbol','Time','Price']\n",
    "    df.Price = df.Price.astype(float)\n",
    "    df.Time = pd.to_datetime(df.Time, unit='ms')\n",
    "    return df\n",
    "    \n",
    "    \n",
    "    "
   ]
  },
  {
   "cell_type": "code",
   "execution_count": 11,
   "id": "69c9dfed",
   "metadata": {},
   "outputs": [
    {
     "data": {
      "text/html": [
       "<div>\n",
       "<style scoped>\n",
       "    .dataframe tbody tr th:only-of-type {\n",
       "        vertical-align: middle;\n",
       "    }\n",
       "\n",
       "    .dataframe tbody tr th {\n",
       "        vertical-align: top;\n",
       "    }\n",
       "\n",
       "    .dataframe thead th {\n",
       "        text-align: right;\n",
       "    }\n",
       "</style>\n",
       "<table border=\"1\" class=\"dataframe\">\n",
       "  <thead>\n",
       "    <tr style=\"text-align: right;\">\n",
       "      <th></th>\n",
       "      <th>symbol</th>\n",
       "      <th>Time</th>\n",
       "      <th>Price</th>\n",
       "    </tr>\n",
       "  </thead>\n",
       "  <tbody>\n",
       "    <tr>\n",
       "      <th>0</th>\n",
       "      <td>BTCUSDT</td>\n",
       "      <td>2022-06-07 04:41:35.309</td>\n",
       "      <td>29496.02</td>\n",
       "    </tr>\n",
       "  </tbody>\n",
       "</table>\n",
       "</div>"
      ],
      "text/plain": [
       "    symbol                    Time     Price\n",
       "0  BTCUSDT 2022-06-07 04:41:35.309  29496.02"
      ]
     },
     "execution_count": 11,
     "metadata": {},
     "output_type": "execute_result"
    }
   ],
   "source": [
    "createframe(msg)"
   ]
  },
  {
   "cell_type": "code",
   "execution_count": 12,
   "id": "ab1457c8",
   "metadata": {},
   "outputs": [],
   "source": [
    "engine = sqlalchemy.create_engine('sqlite:///BTCUSDTstream.db')"
   ]
  },
  {
   "cell_type": "code",
   "execution_count": 13,
   "id": "34280c8b",
   "metadata": {
    "scrolled": false
   },
   "outputs": [
    {
     "name": "stdout",
     "output_type": "stream",
     "text": [
      "    symbol                    Time     Price\n",
      "0  BTCUSDT 2022-06-07 04:41:35.583  29496.01\n",
      "    symbol                    Time     Price\n",
      "0  BTCUSDT 2022-06-07 04:41:35.909  29496.02\n",
      "    symbol                    Time     Price\n",
      "0  BTCUSDT 2022-06-07 04:41:36.387  29496.02\n",
      "    symbol                    Time     Price\n",
      "0  BTCUSDT 2022-06-07 04:41:36.387  29496.02\n",
      "    symbol                    Time     Price\n",
      "0  BTCUSDT 2022-06-07 04:41:36.449  29496.02\n",
      "    symbol                    Time     Price\n",
      "0  BTCUSDT 2022-06-07 04:41:36.804  29496.01\n",
      "    symbol                    Time     Price\n",
      "0  BTCUSDT 2022-06-07 04:41:36.804  29496.01\n",
      "    symbol                    Time     Price\n",
      "0  BTCUSDT 2022-06-07 04:41:36.804  29496.01\n",
      "    symbol                    Time     Price\n",
      "0  BTCUSDT 2022-06-07 04:41:36.804  29496.01\n",
      "    symbol                    Time     Price\n",
      "0  BTCUSDT 2022-06-07 04:41:36.804  29496.01\n",
      "    symbol                    Time     Price\n",
      "0  BTCUSDT 2022-06-07 04:41:36.804  29496.01\n",
      "    symbol                    Time     Price\n",
      "0  BTCUSDT 2022-06-07 04:41:36.804  29496.01\n",
      "    symbol                    Time     Price\n",
      "0  BTCUSDT 2022-06-07 04:41:37.137  29496.02\n",
      "    symbol                    Time     Price\n",
      "0  BTCUSDT 2022-06-07 04:41:37.874  29496.01\n",
      "    symbol                    Time     Price\n",
      "0  BTCUSDT 2022-06-07 04:41:37.874  29496.01\n",
      "    symbol                    Time     Price\n",
      "0  BTCUSDT 2022-06-07 04:41:37.894  29496.02\n",
      "    symbol                    Time     Price\n",
      "0  BTCUSDT 2022-06-07 04:41:37.894  29496.02\n",
      "    symbol                    Time     Price\n",
      "0  BTCUSDT 2022-06-07 04:41:37.894  29496.02\n",
      "    symbol                    Time     Price\n",
      "0  BTCUSDT 2022-06-07 04:41:37.920  29496.02\n",
      "    symbol                    Time     Price\n",
      "0  BTCUSDT 2022-06-07 04:41:37.920  29496.02\n",
      "    symbol                    Time     Price\n",
      "0  BTCUSDT 2022-06-07 04:41:37.920  29496.02\n",
      "    symbol                    Time     Price\n",
      "0  BTCUSDT 2022-06-07 04:41:37.920  29496.02\n",
      "    symbol                    Time     Price\n",
      "0  BTCUSDT 2022-06-07 04:41:37.920  29496.02\n",
      "    symbol                    Time     Price\n",
      "0  BTCUSDT 2022-06-07 04:41:37.920  29496.02\n",
      "    symbol                    Time     Price\n",
      "0  BTCUSDT 2022-06-07 04:41:37.920  29496.03\n",
      "    symbol                    Time     Price\n",
      "0  BTCUSDT 2022-06-07 04:41:37.920  29496.04\n",
      "    symbol                    Time     Price\n",
      "0  BTCUSDT 2022-06-07 04:41:37.920  29496.09\n",
      "    symbol                    Time    Price\n",
      "0  BTCUSDT 2022-06-07 04:41:37.920  29496.2\n",
      "    symbol                    Time     Price\n",
      "0  BTCUSDT 2022-06-07 04:41:37.920  29496.34\n",
      "    symbol                    Time     Price\n",
      "0  BTCUSDT 2022-06-07 04:41:37.934  29498.41\n",
      "    symbol                    Time     Price\n",
      "0  BTCUSDT 2022-06-07 04:41:37.934  29498.41\n",
      "    symbol                    Time     Price\n",
      "0  BTCUSDT 2022-06-07 04:41:37.940  29498.41\n",
      "    symbol                    Time     Price\n",
      "0  BTCUSDT 2022-06-07 04:41:37.960  29498.41\n",
      "    symbol                    Time     Price\n",
      "0  BTCUSDT 2022-06-07 04:41:38.156  29498.41\n",
      "    symbol                    Time     Price\n",
      "0  BTCUSDT 2022-06-07 04:41:38.202  29498.41\n",
      "    symbol                    Time     Price\n",
      "0  BTCUSDT 2022-06-07 04:41:38.256  29498.41\n",
      "    symbol                    Time     Price\n",
      "0  BTCUSDT 2022-06-07 04:41:38.256  29498.41\n",
      "    symbol                    Time     Price\n",
      "0  BTCUSDT 2022-06-07 04:41:38.314  29498.41\n",
      "    symbol                    Time     Price\n",
      "0  BTCUSDT 2022-06-07 04:41:38.314  29498.41\n",
      "    symbol                    Time     Price\n",
      "0  BTCUSDT 2022-06-07 04:41:38.413  29498.41\n",
      "    symbol                    Time     Price\n",
      "0  BTCUSDT 2022-06-07 04:41:38.413  29498.41\n",
      "    symbol                    Time     Price\n",
      "0  BTCUSDT 2022-06-07 04:41:38.432  29498.41\n",
      "    symbol                    Time     Price\n",
      "0  BTCUSDT 2022-06-07 04:41:38.806  29498.44\n",
      "    symbol                    Time     Price\n",
      "0  BTCUSDT 2022-06-07 04:41:38.832  29498.44\n",
      "    symbol                    Time     Price\n",
      "0  BTCUSDT 2022-06-07 04:41:38.861  29498.44\n",
      "    symbol                    Time     Price\n",
      "0  BTCUSDT 2022-06-07 04:41:39.136  29498.44\n",
      "    symbol                    Time     Price\n",
      "0  BTCUSDT 2022-06-07 04:41:39.136  29498.44\n",
      "    symbol                    Time     Price\n",
      "0  BTCUSDT 2022-06-07 04:41:39.220  29498.45\n",
      "    symbol                    Time     Price\n",
      "0  BTCUSDT 2022-06-07 04:41:39.220  29498.45\n",
      "    symbol                    Time     Price\n",
      "0  BTCUSDT 2022-06-07 04:41:39.220  29498.45\n",
      "    symbol                    Time     Price\n",
      "0  BTCUSDT 2022-06-07 04:41:39.220  29498.45\n",
      "    symbol                    Time     Price\n",
      "0  BTCUSDT 2022-06-07 04:41:39.220  29499.29\n",
      "    symbol                    Time     Price\n",
      "0  BTCUSDT 2022-06-07 04:41:39.220  29499.95\n",
      "    symbol                    Time    Price\n",
      "0  BTCUSDT 2022-06-07 04:41:39.220  29500.0\n",
      "    symbol                    Time    Price\n",
      "0  BTCUSDT 2022-06-07 04:41:39.234  29500.0\n",
      "    symbol                    Time    Price\n",
      "0  BTCUSDT 2022-06-07 04:41:39.248  29500.0\n",
      "    symbol                    Time    Price\n",
      "0  BTCUSDT 2022-06-07 04:41:39.252  29500.0\n",
      "    symbol                    Time    Price\n",
      "0  BTCUSDT 2022-06-07 04:41:39.282  29500.0\n",
      "    symbol                    Time    Price\n",
      "0  BTCUSDT 2022-06-07 04:41:39.286  29500.0\n",
      "    symbol                    Time    Price\n",
      "0  BTCUSDT 2022-06-07 04:41:39.293  29500.0\n",
      "    symbol                    Time    Price\n",
      "0  BTCUSDT 2022-06-07 04:41:39.294  29500.0\n",
      "    symbol                    Time    Price\n",
      "0  BTCUSDT 2022-06-07 04:41:39.297  29500.0\n",
      "    symbol                    Time    Price\n",
      "0  BTCUSDT 2022-06-07 04:41:39.299  29500.0\n",
      "    symbol                    Time    Price\n",
      "0  BTCUSDT 2022-06-07 04:41:39.300  29500.0\n",
      "    symbol                    Time    Price\n",
      "0  BTCUSDT 2022-06-07 04:41:39.302  29500.0\n",
      "    symbol                    Time    Price\n",
      "0  BTCUSDT 2022-06-07 04:41:39.313  29500.0\n",
      "    symbol                    Time    Price\n",
      "0  BTCUSDT 2022-06-07 04:41:39.317  29500.0\n",
      "    symbol                    Time    Price\n",
      "0  BTCUSDT 2022-06-07 04:41:39.332  29500.0\n",
      "    symbol                    Time    Price\n",
      "0  BTCUSDT 2022-06-07 04:41:39.365  29500.0\n",
      "    symbol                    Time    Price\n",
      "0  BTCUSDT 2022-06-07 04:41:39.372  29500.0\n",
      "    symbol                    Time    Price\n",
      "0  BTCUSDT 2022-06-07 04:41:39.419  29500.0\n",
      "    symbol                    Time    Price\n",
      "0  BTCUSDT 2022-06-07 04:41:39.612  29500.0\n",
      "    symbol                    Time    Price\n",
      "0  BTCUSDT 2022-06-07 04:41:39.633  29500.0\n",
      "    symbol                    Time    Price\n",
      "0  BTCUSDT 2022-06-07 04:41:39.789  29500.0\n",
      "    symbol                    Time    Price\n",
      "0  BTCUSDT 2022-06-07 04:41:39.805  29500.0\n",
      "    symbol                    Time    Price\n",
      "0  BTCUSDT 2022-06-07 04:41:39.900  29500.0\n",
      "    symbol                    Time    Price\n",
      "0  BTCUSDT 2022-06-07 04:41:39.923  29500.0\n",
      "    symbol                    Time    Price\n",
      "0  BTCUSDT 2022-06-07 04:41:39.923  29500.0\n",
      "    symbol                    Time    Price\n",
      "0  BTCUSDT 2022-06-07 04:41:39.925  29500.0\n",
      "    symbol                    Time    Price\n",
      "0  BTCUSDT 2022-06-07 04:41:39.925  29500.0\n",
      "    symbol                    Time    Price\n",
      "0  BTCUSDT 2022-06-07 04:41:39.926  29500.0\n",
      "    symbol                    Time    Price\n",
      "0  BTCUSDT 2022-06-07 04:41:39.926  29500.0\n",
      "    symbol                    Time    Price\n",
      "0  BTCUSDT 2022-06-07 04:41:39.928  29500.0\n",
      "    symbol                    Time    Price\n",
      "0  BTCUSDT 2022-06-07 04:41:39.930  29500.0\n",
      "    symbol                    Time    Price\n",
      "0  BTCUSDT 2022-06-07 04:41:39.930  29500.0\n",
      "    symbol                    Time    Price\n",
      "0  BTCUSDT 2022-06-07 04:41:39.931  29500.0\n",
      "    symbol                    Time    Price\n",
      "0  BTCUSDT 2022-06-07 04:41:39.932  29500.0\n",
      "    symbol                    Time    Price\n",
      "0  BTCUSDT 2022-06-07 04:41:39.933  29500.0\n",
      "    symbol                    Time    Price\n",
      "0  BTCUSDT 2022-06-07 04:41:39.933  29500.0\n",
      "    symbol                    Time    Price\n",
      "0  BTCUSDT 2022-06-07 04:41:39.933  29500.0\n",
      "    symbol                    Time    Price\n",
      "0  BTCUSDT 2022-06-07 04:41:39.934  29500.0\n",
      "    symbol                    Time    Price\n",
      "0  BTCUSDT 2022-06-07 04:41:39.934  29500.0\n"
     ]
    },
    {
     "name": "stdout",
     "output_type": "stream",
     "text": [
      "    symbol                    Time    Price\n",
      "0  BTCUSDT 2022-06-07 04:41:39.935  29500.0\n",
      "    symbol                    Time    Price\n",
      "0  BTCUSDT 2022-06-07 04:41:39.935  29500.0\n",
      "    symbol                    Time    Price\n",
      "0  BTCUSDT 2022-06-07 04:41:39.936  29500.0\n",
      "    symbol                    Time    Price\n",
      "0  BTCUSDT 2022-06-07 04:41:39.936  29500.0\n",
      "    symbol                    Time    Price\n",
      "0  BTCUSDT 2022-06-07 04:41:39.936  29500.0\n",
      "    symbol                    Time    Price\n",
      "0  BTCUSDT 2022-06-07 04:41:39.936  29500.0\n",
      "    symbol                    Time    Price\n",
      "0  BTCUSDT 2022-06-07 04:41:39.937  29500.0\n",
      "    symbol                    Time    Price\n",
      "0  BTCUSDT 2022-06-07 04:41:39.938  29500.0\n",
      "    symbol                    Time    Price\n",
      "0  BTCUSDT 2022-06-07 04:41:39.938  29500.0\n",
      "    symbol                    Time    Price\n",
      "0  BTCUSDT 2022-06-07 04:41:39.939  29500.0\n",
      "    symbol                    Time    Price\n",
      "0  BTCUSDT 2022-06-07 04:41:39.939  29500.0\n",
      "    symbol                    Time    Price\n",
      "0  BTCUSDT 2022-06-07 04:41:39.940  29500.0\n"
     ]
    },
    {
     "ename": "KeyError",
     "evalue": "\"None of [Index(['s', 'E', 'p'], dtype='object')] are in the [columns]\"",
     "output_type": "error",
     "traceback": [
      "\u001b[1;31m---------------------------------------------------------------------------\u001b[0m",
      "\u001b[1;31mKeyError\u001b[0m                                  Traceback (most recent call last)",
      "Input \u001b[1;32mIn [13]\u001b[0m, in \u001b[0;36m<cell line: 1>\u001b[1;34m()\u001b[0m\n\u001b[0;32m      2\u001b[0m \u001b[38;5;28;01mawait\u001b[39;00m socket\u001b[38;5;241m.\u001b[39m\u001b[38;5;21m__aenter__\u001b[39m()\n\u001b[0;32m      3\u001b[0m msg \u001b[38;5;241m=\u001b[39m \u001b[38;5;28;01mawait\u001b[39;00m socket\u001b[38;5;241m.\u001b[39mrecv()\n\u001b[1;32m----> 4\u001b[0m frame \u001b[38;5;241m=\u001b[39m createframe(msg)\n\u001b[0;32m      5\u001b[0m frame\u001b[38;5;241m.\u001b[39mto_sql(\u001b[38;5;124m'\u001b[39m\u001b[38;5;124mBTCUSDT\u001b[39m\u001b[38;5;124m'\u001b[39m, engine, if_exists\u001b[38;5;241m=\u001b[39m\u001b[38;5;124m'\u001b[39m\u001b[38;5;124mappend\u001b[39m\u001b[38;5;124m'\u001b[39m, index\u001b[38;5;241m=\u001b[39m\u001b[38;5;28;01mFalse\u001b[39;00m)\n\u001b[0;32m      6\u001b[0m \u001b[38;5;28mprint\u001b[39m(frame)\n",
      "Input \u001b[1;32mIn [10]\u001b[0m, in \u001b[0;36mcreateframe\u001b[1;34m(msg)\u001b[0m\n\u001b[0;32m      1\u001b[0m \u001b[38;5;28;01mdef\u001b[39;00m \u001b[38;5;21mcreateframe\u001b[39m(msg):\n\u001b[0;32m      2\u001b[0m     df \u001b[38;5;241m=\u001b[39m pd\u001b[38;5;241m.\u001b[39mDataFrame([msg])\n\u001b[1;32m----> 3\u001b[0m     df \u001b[38;5;241m=\u001b[39m \u001b[43mdf\u001b[49m\u001b[38;5;241;43m.\u001b[39;49m\u001b[43mloc\u001b[49m\u001b[43m[\u001b[49m\u001b[43m:\u001b[49m\u001b[43m,\u001b[49m\u001b[43m[\u001b[49m\u001b[38;5;124;43m'\u001b[39;49m\u001b[38;5;124;43ms\u001b[39;49m\u001b[38;5;124;43m'\u001b[39;49m\u001b[43m,\u001b[49m\u001b[38;5;124;43m'\u001b[39;49m\u001b[38;5;124;43mE\u001b[39;49m\u001b[38;5;124;43m'\u001b[39;49m\u001b[43m,\u001b[49m\u001b[38;5;124;43m'\u001b[39;49m\u001b[38;5;124;43mp\u001b[39;49m\u001b[38;5;124;43m'\u001b[39;49m\u001b[43m]\u001b[49m\u001b[43m]\u001b[49m\n\u001b[0;32m      4\u001b[0m     df\u001b[38;5;241m.\u001b[39mcolumns \u001b[38;5;241m=\u001b[39m [\u001b[38;5;124m'\u001b[39m\u001b[38;5;124msymbol\u001b[39m\u001b[38;5;124m'\u001b[39m,\u001b[38;5;124m'\u001b[39m\u001b[38;5;124mTime\u001b[39m\u001b[38;5;124m'\u001b[39m,\u001b[38;5;124m'\u001b[39m\u001b[38;5;124mPrice\u001b[39m\u001b[38;5;124m'\u001b[39m]\n\u001b[0;32m      5\u001b[0m     df\u001b[38;5;241m.\u001b[39mPrice \u001b[38;5;241m=\u001b[39m df\u001b[38;5;241m.\u001b[39mPrice\u001b[38;5;241m.\u001b[39mastype(\u001b[38;5;28mfloat\u001b[39m)\n",
      "File \u001b[1;32m~\\AppData\\Local\\Programs\\Python\\Python310\\lib\\site-packages\\pandas\\core\\indexing.py:961\u001b[0m, in \u001b[0;36m_LocationIndexer.__getitem__\u001b[1;34m(self, key)\u001b[0m\n\u001b[0;32m    959\u001b[0m     \u001b[38;5;28;01mif\u001b[39;00m \u001b[38;5;28mself\u001b[39m\u001b[38;5;241m.\u001b[39m_is_scalar_access(key):\n\u001b[0;32m    960\u001b[0m         \u001b[38;5;28;01mreturn\u001b[39;00m \u001b[38;5;28mself\u001b[39m\u001b[38;5;241m.\u001b[39mobj\u001b[38;5;241m.\u001b[39m_get_value(\u001b[38;5;241m*\u001b[39mkey, takeable\u001b[38;5;241m=\u001b[39m\u001b[38;5;28mself\u001b[39m\u001b[38;5;241m.\u001b[39m_takeable)\n\u001b[1;32m--> 961\u001b[0m     \u001b[38;5;28;01mreturn\u001b[39;00m \u001b[38;5;28;43mself\u001b[39;49m\u001b[38;5;241;43m.\u001b[39;49m\u001b[43m_getitem_tuple\u001b[49m\u001b[43m(\u001b[49m\u001b[43mkey\u001b[49m\u001b[43m)\u001b[49m\n\u001b[0;32m    962\u001b[0m \u001b[38;5;28;01melse\u001b[39;00m:\n\u001b[0;32m    963\u001b[0m     \u001b[38;5;66;03m# we by definition only have the 0th axis\u001b[39;00m\n\u001b[0;32m    964\u001b[0m     axis \u001b[38;5;241m=\u001b[39m \u001b[38;5;28mself\u001b[39m\u001b[38;5;241m.\u001b[39maxis \u001b[38;5;129;01mor\u001b[39;00m \u001b[38;5;241m0\u001b[39m\n",
      "File \u001b[1;32m~\\AppData\\Local\\Programs\\Python\\Python310\\lib\\site-packages\\pandas\\core\\indexing.py:1149\u001b[0m, in \u001b[0;36m_LocIndexer._getitem_tuple\u001b[1;34m(self, tup)\u001b[0m\n\u001b[0;32m   1146\u001b[0m \u001b[38;5;28;01mif\u001b[39;00m \u001b[38;5;28mself\u001b[39m\u001b[38;5;241m.\u001b[39m_multi_take_opportunity(tup):\n\u001b[0;32m   1147\u001b[0m     \u001b[38;5;28;01mreturn\u001b[39;00m \u001b[38;5;28mself\u001b[39m\u001b[38;5;241m.\u001b[39m_multi_take(tup)\n\u001b[1;32m-> 1149\u001b[0m \u001b[38;5;28;01mreturn\u001b[39;00m \u001b[38;5;28;43mself\u001b[39;49m\u001b[38;5;241;43m.\u001b[39;49m\u001b[43m_getitem_tuple_same_dim\u001b[49m\u001b[43m(\u001b[49m\u001b[43mtup\u001b[49m\u001b[43m)\u001b[49m\n",
      "File \u001b[1;32m~\\AppData\\Local\\Programs\\Python\\Python310\\lib\\site-packages\\pandas\\core\\indexing.py:827\u001b[0m, in \u001b[0;36m_LocationIndexer._getitem_tuple_same_dim\u001b[1;34m(self, tup)\u001b[0m\n\u001b[0;32m    824\u001b[0m \u001b[38;5;28;01mif\u001b[39;00m com\u001b[38;5;241m.\u001b[39mis_null_slice(key):\n\u001b[0;32m    825\u001b[0m     \u001b[38;5;28;01mcontinue\u001b[39;00m\n\u001b[1;32m--> 827\u001b[0m retval \u001b[38;5;241m=\u001b[39m \u001b[38;5;28;43mgetattr\u001b[39;49m\u001b[43m(\u001b[49m\u001b[43mretval\u001b[49m\u001b[43m,\u001b[49m\u001b[43m \u001b[49m\u001b[38;5;28;43mself\u001b[39;49m\u001b[38;5;241;43m.\u001b[39;49m\u001b[43mname\u001b[49m\u001b[43m)\u001b[49m\u001b[38;5;241;43m.\u001b[39;49m\u001b[43m_getitem_axis\u001b[49m\u001b[43m(\u001b[49m\u001b[43mkey\u001b[49m\u001b[43m,\u001b[49m\u001b[43m \u001b[49m\u001b[43maxis\u001b[49m\u001b[38;5;241;43m=\u001b[39;49m\u001b[43mi\u001b[49m\u001b[43m)\u001b[49m\n\u001b[0;32m    828\u001b[0m \u001b[38;5;66;03m# We should never have retval.ndim < self.ndim, as that should\u001b[39;00m\n\u001b[0;32m    829\u001b[0m \u001b[38;5;66;03m#  be handled by the _getitem_lowerdim call above.\u001b[39;00m\n\u001b[0;32m    830\u001b[0m \u001b[38;5;28;01massert\u001b[39;00m retval\u001b[38;5;241m.\u001b[39mndim \u001b[38;5;241m==\u001b[39m \u001b[38;5;28mself\u001b[39m\u001b[38;5;241m.\u001b[39mndim\n",
      "File \u001b[1;32m~\\AppData\\Local\\Programs\\Python\\Python310\\lib\\site-packages\\pandas\\core\\indexing.py:1191\u001b[0m, in \u001b[0;36m_LocIndexer._getitem_axis\u001b[1;34m(self, key, axis)\u001b[0m\n\u001b[0;32m   1188\u001b[0m     \u001b[38;5;28;01mif\u001b[39;00m \u001b[38;5;28mhasattr\u001b[39m(key, \u001b[38;5;124m\"\u001b[39m\u001b[38;5;124mndim\u001b[39m\u001b[38;5;124m\"\u001b[39m) \u001b[38;5;129;01mand\u001b[39;00m key\u001b[38;5;241m.\u001b[39mndim \u001b[38;5;241m>\u001b[39m \u001b[38;5;241m1\u001b[39m:\n\u001b[0;32m   1189\u001b[0m         \u001b[38;5;28;01mraise\u001b[39;00m \u001b[38;5;167;01mValueError\u001b[39;00m(\u001b[38;5;124m\"\u001b[39m\u001b[38;5;124mCannot index with multidimensional key\u001b[39m\u001b[38;5;124m\"\u001b[39m)\n\u001b[1;32m-> 1191\u001b[0m     \u001b[38;5;28;01mreturn\u001b[39;00m \u001b[38;5;28;43mself\u001b[39;49m\u001b[38;5;241;43m.\u001b[39;49m\u001b[43m_getitem_iterable\u001b[49m\u001b[43m(\u001b[49m\u001b[43mkey\u001b[49m\u001b[43m,\u001b[49m\u001b[43m \u001b[49m\u001b[43maxis\u001b[49m\u001b[38;5;241;43m=\u001b[39;49m\u001b[43maxis\u001b[49m\u001b[43m)\u001b[49m\n\u001b[0;32m   1193\u001b[0m \u001b[38;5;66;03m# nested tuple slicing\u001b[39;00m\n\u001b[0;32m   1194\u001b[0m \u001b[38;5;28;01mif\u001b[39;00m is_nested_tuple(key, labels):\n",
      "File \u001b[1;32m~\\AppData\\Local\\Programs\\Python\\Python310\\lib\\site-packages\\pandas\\core\\indexing.py:1132\u001b[0m, in \u001b[0;36m_LocIndexer._getitem_iterable\u001b[1;34m(self, key, axis)\u001b[0m\n\u001b[0;32m   1129\u001b[0m \u001b[38;5;28mself\u001b[39m\u001b[38;5;241m.\u001b[39m_validate_key(key, axis)\n\u001b[0;32m   1131\u001b[0m \u001b[38;5;66;03m# A collection of keys\u001b[39;00m\n\u001b[1;32m-> 1132\u001b[0m keyarr, indexer \u001b[38;5;241m=\u001b[39m \u001b[38;5;28;43mself\u001b[39;49m\u001b[38;5;241;43m.\u001b[39;49m\u001b[43m_get_listlike_indexer\u001b[49m\u001b[43m(\u001b[49m\u001b[43mkey\u001b[49m\u001b[43m,\u001b[49m\u001b[43m \u001b[49m\u001b[43maxis\u001b[49m\u001b[43m)\u001b[49m\n\u001b[0;32m   1133\u001b[0m \u001b[38;5;28;01mreturn\u001b[39;00m \u001b[38;5;28mself\u001b[39m\u001b[38;5;241m.\u001b[39mobj\u001b[38;5;241m.\u001b[39m_reindex_with_indexers(\n\u001b[0;32m   1134\u001b[0m     {axis: [keyarr, indexer]}, copy\u001b[38;5;241m=\u001b[39m\u001b[38;5;28;01mTrue\u001b[39;00m, allow_dups\u001b[38;5;241m=\u001b[39m\u001b[38;5;28;01mTrue\u001b[39;00m\n\u001b[0;32m   1135\u001b[0m )\n",
      "File \u001b[1;32m~\\AppData\\Local\\Programs\\Python\\Python310\\lib\\site-packages\\pandas\\core\\indexing.py:1327\u001b[0m, in \u001b[0;36m_LocIndexer._get_listlike_indexer\u001b[1;34m(self, key, axis)\u001b[0m\n\u001b[0;32m   1324\u001b[0m ax \u001b[38;5;241m=\u001b[39m \u001b[38;5;28mself\u001b[39m\u001b[38;5;241m.\u001b[39mobj\u001b[38;5;241m.\u001b[39m_get_axis(axis)\n\u001b[0;32m   1325\u001b[0m axis_name \u001b[38;5;241m=\u001b[39m \u001b[38;5;28mself\u001b[39m\u001b[38;5;241m.\u001b[39mobj\u001b[38;5;241m.\u001b[39m_get_axis_name(axis)\n\u001b[1;32m-> 1327\u001b[0m keyarr, indexer \u001b[38;5;241m=\u001b[39m \u001b[43max\u001b[49m\u001b[38;5;241;43m.\u001b[39;49m\u001b[43m_get_indexer_strict\u001b[49m\u001b[43m(\u001b[49m\u001b[43mkey\u001b[49m\u001b[43m,\u001b[49m\u001b[43m \u001b[49m\u001b[43maxis_name\u001b[49m\u001b[43m)\u001b[49m\n\u001b[0;32m   1329\u001b[0m \u001b[38;5;28;01mreturn\u001b[39;00m keyarr, indexer\n",
      "File \u001b[1;32m~\\AppData\\Local\\Programs\\Python\\Python310\\lib\\site-packages\\pandas\\core\\indexes\\base.py:5782\u001b[0m, in \u001b[0;36mIndex._get_indexer_strict\u001b[1;34m(self, key, axis_name)\u001b[0m\n\u001b[0;32m   5779\u001b[0m \u001b[38;5;28;01melse\u001b[39;00m:\n\u001b[0;32m   5780\u001b[0m     keyarr, indexer, new_indexer \u001b[38;5;241m=\u001b[39m \u001b[38;5;28mself\u001b[39m\u001b[38;5;241m.\u001b[39m_reindex_non_unique(keyarr)\n\u001b[1;32m-> 5782\u001b[0m \u001b[38;5;28;43mself\u001b[39;49m\u001b[38;5;241;43m.\u001b[39;49m\u001b[43m_raise_if_missing\u001b[49m\u001b[43m(\u001b[49m\u001b[43mkeyarr\u001b[49m\u001b[43m,\u001b[49m\u001b[43m \u001b[49m\u001b[43mindexer\u001b[49m\u001b[43m,\u001b[49m\u001b[43m \u001b[49m\u001b[43maxis_name\u001b[49m\u001b[43m)\u001b[49m\n\u001b[0;32m   5784\u001b[0m keyarr \u001b[38;5;241m=\u001b[39m \u001b[38;5;28mself\u001b[39m\u001b[38;5;241m.\u001b[39mtake(indexer)\n\u001b[0;32m   5785\u001b[0m \u001b[38;5;28;01mif\u001b[39;00m \u001b[38;5;28misinstance\u001b[39m(key, Index):\n\u001b[0;32m   5786\u001b[0m     \u001b[38;5;66;03m# GH 42790 - Preserve name from an Index\u001b[39;00m\n",
      "File \u001b[1;32m~\\AppData\\Local\\Programs\\Python\\Python310\\lib\\site-packages\\pandas\\core\\indexes\\base.py:5842\u001b[0m, in \u001b[0;36mIndex._raise_if_missing\u001b[1;34m(self, key, indexer, axis_name)\u001b[0m\n\u001b[0;32m   5840\u001b[0m     \u001b[38;5;28;01mif\u001b[39;00m use_interval_msg:\n\u001b[0;32m   5841\u001b[0m         key \u001b[38;5;241m=\u001b[39m \u001b[38;5;28mlist\u001b[39m(key)\n\u001b[1;32m-> 5842\u001b[0m     \u001b[38;5;28;01mraise\u001b[39;00m \u001b[38;5;167;01mKeyError\u001b[39;00m(\u001b[38;5;124mf\u001b[39m\u001b[38;5;124m\"\u001b[39m\u001b[38;5;124mNone of [\u001b[39m\u001b[38;5;132;01m{\u001b[39;00mkey\u001b[38;5;132;01m}\u001b[39;00m\u001b[38;5;124m] are in the [\u001b[39m\u001b[38;5;132;01m{\u001b[39;00maxis_name\u001b[38;5;132;01m}\u001b[39;00m\u001b[38;5;124m]\u001b[39m\u001b[38;5;124m\"\u001b[39m)\n\u001b[0;32m   5844\u001b[0m not_found \u001b[38;5;241m=\u001b[39m \u001b[38;5;28mlist\u001b[39m(ensure_index(key)[missing_mask\u001b[38;5;241m.\u001b[39mnonzero()[\u001b[38;5;241m0\u001b[39m]]\u001b[38;5;241m.\u001b[39munique())\n\u001b[0;32m   5845\u001b[0m \u001b[38;5;28;01mraise\u001b[39;00m \u001b[38;5;167;01mKeyError\u001b[39;00m(\u001b[38;5;124mf\u001b[39m\u001b[38;5;124m\"\u001b[39m\u001b[38;5;132;01m{\u001b[39;00mnot_found\u001b[38;5;132;01m}\u001b[39;00m\u001b[38;5;124m not in index\u001b[39m\u001b[38;5;124m\"\u001b[39m)\n",
      "\u001b[1;31mKeyError\u001b[0m: \"None of [Index(['s', 'E', 'p'], dtype='object')] are in the [columns]\""
     ]
    }
   ],
   "source": [
    "while True:\n",
    "    await socket.__aenter__()\n",
    "    msg = await socket.recv()\n",
    "    frame = createframe(msg)\n",
    "    frame.to_sql('BTCUSDT', engine, if_exists='append', index=False)\n",
    "    print(frame)"
   ]
  },
  {
   "cell_type": "code",
   "execution_count": null,
   "id": "9348a821",
   "metadata": {},
   "outputs": [],
   "source": []
  },
  {
   "cell_type": "code",
   "execution_count": null,
   "id": "8a6a1fe6",
   "metadata": {},
   "outputs": [],
   "source": []
  }
 ],
 "metadata": {
  "kernelspec": {
   "display_name": "Python 3 (ipykernel)",
   "language": "python",
   "name": "python3"
  },
  "language_info": {
   "codemirror_mode": {
    "name": "ipython",
    "version": 3
   },
   "file_extension": ".py",
   "mimetype": "text/x-python",
   "name": "python",
   "nbconvert_exporter": "python",
   "pygments_lexer": "ipython3",
   "version": "3.10.4"
  }
 },
 "nbformat": 4,
 "nbformat_minor": 5
}
