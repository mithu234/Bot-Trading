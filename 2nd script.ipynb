{
 "cells": [
  {
   "cell_type": "code",
   "execution_count": 1,
   "id": "500cc802",
   "metadata": {},
   "outputs": [],
   "source": [
    "import sqlalchemy\n",
    "import pandas as pd\n",
    "from binance.client import Client\n",
    "\n",
    "\n",
    "\n"
   ]
  },
  {
   "cell_type": "code",
   "execution_count": 2,
   "id": "039e13ce",
   "metadata": {},
   "outputs": [],
   "source": [
    "%store -r api_key"
   ]
  },
  {
   "cell_type": "code",
   "execution_count": 3,
   "id": "1b5ecc08",
   "metadata": {},
   "outputs": [],
   "source": [
    "%store -r api_secret"
   ]
  },
  {
   "cell_type": "code",
   "execution_count": 4,
   "id": "51a9bf73",
   "metadata": {},
   "outputs": [],
   "source": [
    "client = Client(api_key,api_secret)"
   ]
  },
  {
   "cell_type": "code",
   "execution_count": 5,
   "id": "aafefaa4",
   "metadata": {},
   "outputs": [],
   "source": [
    "engine = sqlalchemy.create_engine('sqlite:///BTCUSDTstream.db')"
   ]
  },
  {
   "cell_type": "code",
   "execution_count": 6,
   "id": "8f686e7a",
   "metadata": {},
   "outputs": [],
   "source": [
    "df = pd.read_sql('BTCUSDT', engine)"
   ]
  },
  {
   "cell_type": "code",
   "execution_count": 7,
   "id": "ddf6d28b",
   "metadata": {},
   "outputs": [],
   "source": [
    "def strategy(entry, lookback, qty, open_position=False):\n",
    "    while True:\n",
    "        df = pd.read_sql('BTCUSDT', engine)\n",
    "        lookbackperiod = df.iloc[-lookback:]\n",
    "        cumret = (lookbackperoid.Price.pct_change() +1).cumprod() -1\n",
    "        if not open_position:\n",
    "            if cumret[cumret.last_valid_index()] > entry:\n",
    "                order = client.create_order(symbol='BTCUSDT',\n",
    "                                           side='BUY',\n",
    "                                           type='MARKET',\n",
    "                                           quantity=qty)\n",
    "                print(order)\n",
    "                open_position = True\n",
    "                break\n",
    "        if open_position:\n",
    "            while True:\n",
    "                df = pd.read_sql('BTCUSDT', engine)\n",
    "                sincebuy = df.loc[df.Time > \n",
    "                                  pd.to_datetime(order['transactTime'],\n",
    "                                                unit='ms')]\n",
    "                if len(sincebuy) > 1:\n",
    "                    sincebuyret = (sincebuy.Price.pct_change() +1).cumprod() -1\n",
    "                    last_entry = sincebuyret[sincebuyret.last_valid_index()]\n",
    "                    if last_entry > 0.0015 or last_entry < -0.0015:\n",
    "                        order = client.create_order(symbol='BTCUSDT',\n",
    "                                           side='SELL',\n",
    "                                           type='MARKET',\n",
    "                                           quantity=qty)\n",
    "                        print(order)\n",
    "                        break\n",
    "                \n",
    "                \n",
    "                \n",
    "                \n",
    "                \n",
    "        "
   ]
  },
  {
   "cell_type": "code",
   "execution_count": 8,
   "id": "4b5d6b64",
   "metadata": {},
   "outputs": [
    {
     "ename": "NameError",
     "evalue": "name 'lookbackperoid' is not defined",
     "output_type": "error",
     "traceback": [
      "\u001b[1;31m---------------------------------------------------------------------------\u001b[0m",
      "\u001b[1;31mNameError\u001b[0m                                 Traceback (most recent call last)",
      "Input \u001b[1;32mIn [8]\u001b[0m, in \u001b[0;36m<cell line: 1>\u001b[1;34m()\u001b[0m\n\u001b[1;32m----> 1\u001b[0m \u001b[43mstrategy\u001b[49m\u001b[43m(\u001b[49m\u001b[38;5;241;43m0.001\u001b[39;49m\u001b[43m,\u001b[49m\u001b[43m \u001b[49m\u001b[38;5;241;43m60\u001b[39;49m\u001b[43m,\u001b[49m\u001b[43m \u001b[49m\u001b[38;5;241;43m0.001\u001b[39;49m\u001b[43m)\u001b[49m\n",
      "Input \u001b[1;32mIn [7]\u001b[0m, in \u001b[0;36mstrategy\u001b[1;34m(entry, lookback, qty, open_position)\u001b[0m\n\u001b[0;32m      3\u001b[0m df \u001b[38;5;241m=\u001b[39m pd\u001b[38;5;241m.\u001b[39mread_sql(\u001b[38;5;124m'\u001b[39m\u001b[38;5;124mBTCUSDT\u001b[39m\u001b[38;5;124m'\u001b[39m, engine)\n\u001b[0;32m      4\u001b[0m lookbackperiod \u001b[38;5;241m=\u001b[39m df\u001b[38;5;241m.\u001b[39miloc[\u001b[38;5;241m-\u001b[39mlookback:]\n\u001b[1;32m----> 5\u001b[0m cumret \u001b[38;5;241m=\u001b[39m (\u001b[43mlookbackperoid\u001b[49m\u001b[38;5;241m.\u001b[39mPrice\u001b[38;5;241m.\u001b[39mpct_change() \u001b[38;5;241m+\u001b[39m\u001b[38;5;241m1\u001b[39m)\u001b[38;5;241m.\u001b[39mcumprod() \u001b[38;5;241m-\u001b[39m\u001b[38;5;241m1\u001b[39m\n\u001b[0;32m      6\u001b[0m \u001b[38;5;28;01mif\u001b[39;00m \u001b[38;5;129;01mnot\u001b[39;00m open_position:\n\u001b[0;32m      7\u001b[0m     \u001b[38;5;28;01mif\u001b[39;00m cumret[cumret\u001b[38;5;241m.\u001b[39mlast_valid_index()] \u001b[38;5;241m>\u001b[39m entry:\n",
      "\u001b[1;31mNameError\u001b[0m: name 'lookbackperoid' is not defined"
     ]
    }
   ],
   "source": [
    "strategy(0.001, 60, 0.001)"
   ]
  },
  {
   "cell_type": "code",
   "execution_count": null,
   "id": "ddd1ea0d",
   "metadata": {},
   "outputs": [],
   "source": []
  },
  {
   "cell_type": "code",
   "execution_count": null,
   "id": "13491ba9",
   "metadata": {},
   "outputs": [],
   "source": []
  }
 ],
 "metadata": {
  "kernelspec": {
   "display_name": "Python 3 (ipykernel)",
   "language": "python",
   "name": "python3"
  },
  "language_info": {
   "codemirror_mode": {
    "name": "ipython",
    "version": 3
   },
   "file_extension": ".py",
   "mimetype": "text/x-python",
   "name": "python",
   "nbconvert_exporter": "python",
   "pygments_lexer": "ipython3",
   "version": "3.10.4"
  }
 },
 "nbformat": 4,
 "nbformat_minor": 5
}
